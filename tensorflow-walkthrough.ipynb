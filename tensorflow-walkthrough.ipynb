{
 "cells": [
  {
   "cell_type": "markdown",
   "id": "4272cb2f",
   "metadata": {},
   "source": [
    "# Tensors\n",
    "TensorFow operates on multidimensional arrays or tensors represented as [tf.Tensor](https://www.tensorflow.org/api_docs/python/tf/Tensor) objects. Here is a two-dimensional tensor."
   ]
  },
  {
   "cell_type": "code",
   "execution_count": 1,
   "id": "8e33261a",
   "metadata": {},
   "outputs": [
    {
     "name": "stderr",
     "output_type": "stream",
     "text": [
      "2022-02-16 20:58:50.012572: I tensorflow/core/platform/cpu_feature_guard.cc:151] This TensorFlow binary is optimized with oneAPI Deep Neural Network Library (oneDNN) to use the following CPU instructions in performance-critical operations:  AVX2 FMA\n",
      "To enable them in other operations, rebuild TensorFlow with the appropriate compiler flags.\n"
     ]
    }
   ],
   "source": [
    "import tensorflow as tf\n",
    "\n",
    "x = tf.constant([[1.,2.,3.,],\n",
    "                [4.,5.,6.]])"
   ]
  },
  {
   "cell_type": "code",
   "execution_count": 4,
   "id": "92abaa0e",
   "metadata": {},
   "outputs": [
    {
     "data": {
      "text/plain": [
       "<tf.Tensor: shape=(2, 3), dtype=float32, numpy=\n",
       "array([[1., 2., 3.],\n",
       "       [4., 5., 6.]], dtype=float32)>"
      ]
     },
     "execution_count": 4,
     "metadata": {},
     "output_type": "execute_result"
    }
   ],
   "source": [
    "x"
   ]
  },
  {
   "cell_type": "markdown",
   "id": "c2dec8a0",
   "metadata": {},
   "source": [
    "#### The most important attributes of a tf.Tensor are its 'shape' and 'dtype':\n",
    "* [Tensor.shape](https://www.tensorflow.org/api_docs/python/tf/Tensor#shape): tells you the size of the tensor along each of its axes.\n",
    "* [Tensor.dtype](https://www.tensorflow.org/api_docs/python/tf/Tensor#dtype): tells you the type of all the elements in the tensor.\n",
    "\n",
    "TensorFlow implrements standard mathematical operations on tensors, as well as many operations specialzed for machine learning.\n",
    "\n",
    "For example:"
   ]
  },
  {
   "cell_type": "code",
   "execution_count": 5,
   "id": "ac834f64",
   "metadata": {},
   "outputs": [
    {
     "data": {
      "text/plain": [
       "<tf.Tensor: shape=(2, 3), dtype=float32, numpy=\n",
       "array([[ 2.,  4.,  6.],\n",
       "       [ 8., 10., 12.]], dtype=float32)>"
      ]
     },
     "execution_count": 5,
     "metadata": {},
     "output_type": "execute_result"
    }
   ],
   "source": [
    "# You can add two tensors.\n",
    "x + x"
   ]
  },
  {
   "cell_type": "code",
   "execution_count": 6,
   "id": "46de4796",
   "metadata": {},
   "outputs": [
    {
     "data": {
      "text/plain": [
       "<tf.Tensor: shape=(2, 3), dtype=float32, numpy=\n",
       "array([[ 5., 10., 15.],\n",
       "       [20., 25., 30.]], dtype=float32)>"
      ]
     },
     "execution_count": 6,
     "metadata": {},
     "output_type": "execute_result"
    }
   ],
   "source": [
    "# You can multiply a tensor by a scalar quantity.\n",
    "5 * x"
   ]
  },
  {
   "cell_type": "code",
   "execution_count": 10,
   "id": "86f09847",
   "metadata": {},
   "outputs": [
    {
     "data": {
      "text/plain": [
       "<tf.Tensor: shape=(6, 3), dtype=float32, numpy=\n",
       "array([[1., 2., 3.],\n",
       "       [4., 5., 6.],\n",
       "       [1., 2., 3.],\n",
       "       [4., 5., 6.],\n",
       "       [1., 2., 3.],\n",
       "       [4., 5., 6.]], dtype=float32)>"
      ]
     },
     "execution_count": 10,
     "metadata": {},
     "output_type": "execute_result"
    }
   ],
   "source": [
    "# You can concat tensors.\n",
    "tf.concat([x,x,x], axis=0)"
   ]
  },
  {
   "cell_type": "markdown",
   "id": "dd761b0f",
   "metadata": {},
   "source": [
    "# Variables\n",
    "Normal tf.Tensor objects are immutable. To store model weights (or other mutable state) in TensorFlow use a [tf.Variable](https://www.tensorflow.org/api_docs/python/tf/Variable)."
   ]
  },
  {
   "cell_type": "code",
   "execution_count": 11,
   "id": "ffb97ca8",
   "metadata": {},
   "outputs": [],
   "source": [
    "var = tf.Variable([0.0, 0.0, 0.0])"
   ]
  },
  {
   "cell_type": "code",
   "execution_count": 12,
   "id": "0086c885",
   "metadata": {},
   "outputs": [
    {
     "data": {
      "text/plain": [
       "<tf.Variable 'UnreadVariable' shape=(3,) dtype=float32, numpy=array([1., 2., 3.], dtype=float32)>"
      ]
     },
     "execution_count": 12,
     "metadata": {},
     "output_type": "execute_result"
    }
   ],
   "source": [
    "var.assign([1,2,3])"
   ]
  },
  {
   "cell_type": "code",
   "execution_count": 14,
   "id": "9bdea64a",
   "metadata": {},
   "outputs": [
    {
     "data": {
      "text/plain": [
       "<tf.Variable 'UnreadVariable' shape=(3,) dtype=float32, numpy=array([2., 3., 4.], dtype=float32)>"
      ]
     },
     "execution_count": 14,
     "metadata": {},
     "output_type": "execute_result"
    }
   ],
   "source": [
    "var.assign_add([1,1,1])"
   ]
  },
  {
   "cell_type": "markdown",
   "id": "a9b3714c",
   "metadata": {},
   "source": [
    "# Takeaway\n",
    "It seems as tf.Tensor objects can be used with methods."
   ]
  },
  {
   "cell_type": "markdown",
   "id": "e594eee0",
   "metadata": {},
   "source": [
    "# Automatic Differentiation\n",
    "[Gradient descent](https://en.wikipedia.org/wiki/Gradient_descent) and related algorithms are a cornerstone of modern machine learning.\n",
    "\n",
    "To enable this, TensorFlow implements automatic differentiation (autodiff), which uses calculus to compute gradients. Typically you'll use this to calculate the gradient of a model's error or loss with respect to its weights."
   ]
  },
  {
   "cell_type": "code",
   "execution_count": 20,
   "id": "6ca20f0c",
   "metadata": {},
   "outputs": [],
   "source": [
    "x = tf.Variable(1.0)\n",
    "\n",
    "def f(x):\n",
    "    y = x**2 + 2*x - 5\n",
    "    return y"
   ]
  },
  {
   "cell_type": "code",
   "execution_count": 21,
   "id": "529340f5",
   "metadata": {},
   "outputs": [
    {
     "data": {
      "text/plain": [
       "<tf.Tensor: shape=(), dtype=float32, numpy=-2.0>"
      ]
     },
     "execution_count": 21,
     "metadata": {},
     "output_type": "execute_result"
    }
   ],
   "source": [
    "f(x)"
   ]
  },
  {
   "cell_type": "markdown",
   "id": "33d19ee7",
   "metadata": {},
   "source": [
    "### TensorFlow can calculate derivatives automatically:"
   ]
  },
  {
   "cell_type": "code",
   "execution_count": 23,
   "id": "af168044",
   "metadata": {},
   "outputs": [],
   "source": [
    "with tf.GradientTape() as tape:\n",
    "    y = f(x)\n",
    "    "
   ]
  },
  {
   "cell_type": "code",
   "execution_count": 24,
   "id": "52944c31",
   "metadata": {},
   "outputs": [],
   "source": [
    "g_x = tape.gradient(y,x) # g(x) = dy/dx"
   ]
  },
  {
   "cell_type": "code",
   "execution_count": 25,
   "id": "2cc49c08",
   "metadata": {},
   "outputs": [
    {
     "data": {
      "text/plain": [
       "<tf.Tensor: shape=(), dtype=float32, numpy=4.0>"
      ]
     },
     "execution_count": 25,
     "metadata": {},
     "output_type": "execute_result"
    }
   ],
   "source": [
    "g_x"
   ]
  },
  {
   "cell_type": "markdown",
   "id": "f495ec9d",
   "metadata": {},
   "source": [
    "# Graphs and tf.function\n",
    "While you can use TensorFlow interactively like any Python library, TensorFlow aslo provides tools for:\n",
    "\n",
    "    * **Performance optimization:** to speed up training and inference.\n",
    "    * **Export:** so you can save your model when it's done training.\n",
    "    \n",
    "These require that you use tf.function to separate your pure-TensorFlow code from Python."
   ]
  },
  {
   "cell_type": "code",
   "execution_count": 30,
   "id": "c557f9f3",
   "metadata": {},
   "outputs": [],
   "source": [
    "@tf.function\n",
    "def my_func(x):\n",
    "    print('Tracing.\\n')\n",
    "    return tf.reduce_sum(x)"
   ]
  },
  {
   "cell_type": "markdown",
   "id": "32c8d5a5",
   "metadata": {},
   "source": [
    "The first time you run the tf.function, although it executes in Python, it captures a complete, optimized graph representing the TensorFlow computation done within the function."
   ]
  },
  {
   "cell_type": "code",
   "execution_count": 31,
   "id": "7bcf49f2",
   "metadata": {},
   "outputs": [],
   "source": [
    "x = tf.constant([1,2,3])"
   ]
  },
  {
   "cell_type": "code",
   "execution_count": 32,
   "id": "214e3ea9",
   "metadata": {},
   "outputs": [
    {
     "name": "stdout",
     "output_type": "stream",
     "text": [
      "Tracing.\n",
      "\n"
     ]
    },
    {
     "data": {
      "text/plain": [
       "<tf.Tensor: shape=(), dtype=int32, numpy=6>"
      ]
     },
     "execution_count": 32,
     "metadata": {},
     "output_type": "execute_result"
    }
   ],
   "source": [
    "my_func(x)"
   ]
  },
  {
   "cell_type": "code",
   "execution_count": 33,
   "id": "7b1a9e84",
   "metadata": {},
   "outputs": [],
   "source": [
    "x = tf.constant([10,9,8])"
   ]
  },
  {
   "cell_type": "code",
   "execution_count": 34,
   "id": "271e07e4",
   "metadata": {},
   "outputs": [
    {
     "data": {
      "text/plain": [
       "<tf.Tensor: shape=(), dtype=int32, numpy=27>"
      ]
     },
     "execution_count": 34,
     "metadata": {},
     "output_type": "execute_result"
    }
   ],
   "source": [
    "my_func(x)"
   ]
  },
  {
   "cell_type": "code",
   "execution_count": 35,
   "id": "57fd2e17",
   "metadata": {},
   "outputs": [],
   "source": [
    "x = tf.constant([10.0, 9.1, 8.2], dtype=tf.float32)"
   ]
  },
  {
   "cell_type": "code",
   "execution_count": 36,
   "id": "2932bc85",
   "metadata": {},
   "outputs": [
    {
     "name": "stdout",
     "output_type": "stream",
     "text": [
      "Tracing.\n",
      "\n"
     ]
    },
    {
     "data": {
      "text/plain": [
       "<tf.Tensor: shape=(), dtype=float32, numpy=27.3>"
      ]
     },
     "execution_count": 36,
     "metadata": {},
     "output_type": "execute_result"
    }
   ],
   "source": [
    "my_func(x)"
   ]
  },
  {
   "cell_type": "markdown",
   "id": "4e492c9e",
   "metadata": {},
   "source": [
    "These captured graphs provide two benefits:\n",
    "    \n",
    "    - In many cases they provide a significant speedup in execution (though not this trivial example).\n",
    "    - You can export these graphs, using tf.saved_model, to run on other systems like a server or a mobile device, no Python installation required. \n",
    "    \n",
    "Refer to [intro to graphs](https://www.tensorflow.org/guide/intro_to_graphs) for more details."
   ]
  },
  {
   "cell_type": "markdown",
   "id": "bb8cddbf",
   "metadata": {},
   "source": [
    "## Moduls,  layers, and models\n",
    "\n",
    "tf.Module is a class for managing your tf.Variable objects, and the tf.function objects that operate on them. The tf.Module class is necessary to support two significant features:\n",
    "\n",
    "1. You can save and restore the values of your variables using [tf.train.Checkpoint](https://www.tensorflow.org/api_docs/python/tf/train/Checkpoint). This is useful during training as it is quick to sae and restore a model's state.\n",
    "2. You can import and export the [tf.Variable](https://www.tensorflow.org/api_docs/python/tf/Variable) values and the [tf.function](https://www.tensorflow.org/api_docs/python/tf/function) graphs using [tf.saved_model](https://www.tensorflow.org/api_docs/python/tf/saved_model). This allows you to run your model independently of the Python program that created it. \n",
    "\n",
    "Here is a complete example exporting a simple [tf.Module](https://www.tensorflow.org/api_docs/python/tf/Module) object:"
   ]
  },
  {
   "cell_type": "code",
   "execution_count": 37,
   "id": "a8be21ce",
   "metadata": {},
   "outputs": [],
   "source": [
    "class MyModule(tf.Module):\n",
    "    def __init__(self, value):\n",
    "        self.weight = tf.Variable(value)\n",
    "    \n",
    "    @tf.function\n",
    "    def multiply(self, x):\n",
    "        return x * self.weight"
   ]
  },
  {
   "cell_type": "code",
   "execution_count": 38,
   "id": "cdd171f0",
   "metadata": {},
   "outputs": [
    {
     "data": {
      "text/plain": [
       "<tf.Tensor: shape=(3,), dtype=int32, numpy=array([3, 6, 9], dtype=int32)>"
      ]
     },
     "execution_count": 38,
     "metadata": {},
     "output_type": "execute_result"
    }
   ],
   "source": [
    "mod = MyModule(3)\n",
    "mod.multiply(tf.constant([1,2,3]))"
   ]
  },
  {
   "cell_type": "markdown",
   "id": "f02fbb3e",
   "metadata": {},
   "source": [
    "**Save the Module:**"
   ]
  },
  {
   "cell_type": "code",
   "execution_count": 39,
   "id": "6279d8de",
   "metadata": {},
   "outputs": [
    {
     "name": "stdout",
     "output_type": "stream",
     "text": [
      "INFO:tensorflow:Assets written to: ./saved/assets\n"
     ]
    },
    {
     "name": "stderr",
     "output_type": "stream",
     "text": [
      "2022-02-16 21:44:15.710964: W tensorflow/python/util/util.cc:368] Sets are not currently considered sequences, but this may change in the future, so consider avoiding using them.\n"
     ]
    }
   ],
   "source": [
    "save_path = './saved'\n",
    "tf.saved_model.save(mod, save_path)"
   ]
  },
  {
   "cell_type": "markdown",
   "id": "bd3c84fd",
   "metadata": {},
   "source": [
    "The resulting SavedModel is independent of the code that created it. You can load a SavedModel from Python, other language bindings, or [TensorFlow Serving](https://www.tensorflow.org/tfx/serving/docker). You can also convert it to run with [TensorFlow Lite](https://www.tensorflow.org/lite/guide) or [TensorFlow JS](https://www.tensorflow.org/js/guide)."
   ]
  },
  {
   "cell_type": "code",
   "execution_count": 40,
   "id": "0fed867d",
   "metadata": {},
   "outputs": [
    {
     "data": {
      "text/plain": [
       "<tf.Tensor: shape=(3,), dtype=int32, numpy=array([3, 6, 9], dtype=int32)>"
      ]
     },
     "execution_count": 40,
     "metadata": {},
     "output_type": "execute_result"
    }
   ],
   "source": [
    "reloaded = tf.saved_model.load(save_path)\n",
    "reloaded.multiply(tf.constant([1,2,3]))"
   ]
  },
  {
   "cell_type": "markdown",
   "id": "3e3af8e3",
   "metadata": {},
   "source": [
    "The [tf.keras.layers.Layer](https://www.tensorflow.org/api_docs/python/tf/keras/layers/Layer) and [tf.keras.Model](https://www.tensorflow.org/api_docs/python/tf/keras/Model) classes build on [tf.Module](https://www.tensorflow.org/api_docs/python/tf/Module) providing additional functionality and convenience methods for building, training, and saving models. Some of these are demonstrated in the next section.\n",
    "\n",
    "Refer to [intro to modules](https://www.tensorflow.org/guide/intro_to_modules) for details."
   ]
  },
  {
   "cell_type": "markdown",
   "id": "37d00202",
   "metadata": {},
   "source": [
    "# Training Loops\n",
    "\n",
    "Now put this all together to build a basic model and train it from scratch.\n",
    "\n",
    "First, create some example data. This generates a cloud of points that loosely follows a quadratic curve:"
   ]
  },
  {
   "cell_type": "code",
   "execution_count": 41,
   "id": "94d98810",
   "metadata": {},
   "outputs": [],
   "source": [
    "import matplotlib\n",
    "from matplotlib import pyplot as plt\n",
    "\n",
    "matplotlib.rcParams['figure.figsize'] = [9,6]"
   ]
  },
  {
   "cell_type": "code",
   "execution_count": 42,
   "id": "323dc160",
   "metadata": {},
   "outputs": [
    {
     "data": {
      "text/plain": [
       "<matplotlib.legend.Legend at 0x7fadfedacc70>"
      ]
     },
     "execution_count": 42,
     "metadata": {},
     "output_type": "execute_result"
    },
    {
     "data": {
      "image/png": "[encoded data removed]",
      "text/plain": [
       "<Figure size 648x432 with 1 Axes>"
      ]
     },
     "metadata": {
      "needs_background": "light"
     },
     "output_type": "display_data"
    }
   ],
   "source": [
    "x = tf.linspace(-2, 2, 201)\n",
    "x = tf.cast(x, tf.float32)\n",
    "\n",
    "def f(x):\n",
    "    y = x**2 + 2*x - 5\n",
    "    return y\n",
    "y = f(x) + tf.random.normal(shape=[201])\n",
    "\n",
    "plt.plot(x.numpy(), y.numpy(), '.', label='Data')\n",
    "plt.plot(x, f(x), label='Ground truth')\n",
    "plt.legend()"
   ]
  },
  {
   "cell_type": "markdown",
   "id": "e789228c",
   "metadata": {},
   "source": [
    "**Create a model:**"
   ]
  },
  {
   "cell_type": "code",
   "execution_count": 43,
   "id": "be50e02f",
   "metadata": {},
   "outputs": [],
   "source": [
    "class Model(tf.keras.Model):\n",
    "    def __init__(self, units):\n",
    "        super().__init__()\n",
    "        self.dense1 = tf.keras.layers.Dense(units=units,\n",
    "                                           activation=tf.nn.relu,\n",
    "                                           kernel_initializer=tf.random.normal,\n",
    "                                           bias_initializer=tf.random.normal)\n",
    "        self.dense2 = tf.keras.layers.Dense(1)\n",
    "        \n",
    "    def call(self, x, training=True):\n",
    "        # For Keras lyaers/models, implement 'call' instead of '__call__'.\n",
    "        x = x[:, tf.newaxis]\n",
    "        x = self.dense1(x)\n",
    "        x = self.dense2(x)\n",
    "        return tf.squeeze(x, axis=1)"
   ]
  },
  {
   "cell_type": "code",
   "execution_count": 44,
   "id": "36185130",
   "metadata": {},
   "outputs": [],
   "source": [
    "model = Model(64)"
   ]
  },
  {
   "cell_type": "code",
   "execution_count": 45,
   "id": "dd4e3a32",
   "metadata": {},
   "outputs": [
    {
     "data": {
      "image/png": "[encoded data removed]",
      "text/plain": [
       "<Figure size 648x432 with 1 Axes>"
      ]
     },
     "metadata": {
      "needs_background": "light"
     },
     "output_type": "display_data"
    }
   ],
   "source": [
    "plt.plot(x.numpy(), y.numpy(), '.', label='data')\n",
    "plt.plot(x, f(x), label='Ground truth')\n",
    "plt.plot(x, model(x), label='Untrained predictions')\n",
    "plt.title('Before training')\n",
    "plt.legend();"
   ]
  },
  {
   "cell_type": "markdown",
   "id": "7b7f2113",
   "metadata": {},
   "source": [
    "**Write a basic training loop:**"
   ]
  },
  {
   "cell_type": "code",
   "execution_count": 47,
   "id": "c1c1a053",
   "metadata": {},
   "outputs": [
    {
     "name": "stdout",
     "output_type": "stream",
     "text": [
      "Mean squared error: 25.253\n",
      "Mean squared error: 0.978\n",
      "Mean squared error: 0.956\n",
      "Mean squared error: 0.938\n",
      "Mean squared error: 0.925\n",
      "Mean squared error: 0.914\n",
      "Mean squared error: 0.906\n",
      "Mean squared error: 0.900\n",
      "Mean squared error: 0.895\n",
      "Mean squared error: 0.890\n"
     ]
    }
   ],
   "source": [
    "variables = model.variables\n",
    "\n",
    "optimizer = tf.optimizers.SGD(learning_rate=0.01)\n",
    "\n",
    "for step in range(1000):\n",
    "    with tf.GradientTape() as tape:\n",
    "        prediction = model(x)\n",
    "        error = (y-prediction)**2\n",
    "        mean_error = tf.reduce_mean(error)\n",
    "    gradient = tape.gradient(mean_error, variables)\n",
    "    optimizer.apply_gradients(zip(gradient, variables))\n",
    "    \n",
    "    if step % 100 == 0:\n",
    "        print(f'Mean squared error: {mean_error.numpy():0.3f}')"
   ]
  },
  {
   "cell_type": "code",
   "execution_count": 48,
   "id": "e38b8967",
   "metadata": {},
   "outputs": [
    {
     "data": {
      "image/png": "[encoded data removed]",
      "text/plain": [
       "<Figure size 648x432 with 1 Axes>"
      ]
     },
     "metadata": {
      "needs_background": "light"
     },
     "output_type": "display_data"
    }
   ],
   "source": [
    "plt.plot(x.numpy(), y.numpy(), '.', label='date')\n",
    "plt.plot(x, f(x), label='Ground truth')\n",
    "plt.plot(x, model(x), label='Trained predictions')\n",
    "plt.title('After training')\n",
    "plt.legend();"
   ]
  },
  {
   "cell_type": "markdown",
   "id": "6ab94c19",
   "metadata": {},
   "source": [
    "**Implement a training loop:**"
   ]
  },
  {
   "cell_type": "code",
   "execution_count": 49,
   "id": "0a2799fb",
   "metadata": {},
   "outputs": [],
   "source": [
    "new_model = Model(64)"
   ]
  },
  {
   "cell_type": "code",
   "execution_count": 50,
   "id": "59fe3e8d",
   "metadata": {},
   "outputs": [
    {
     "name": "stdout",
     "output_type": "stream",
     "text": [
      "INFO:tensorflow:Assets written to: ./my_model/assets\n"
     ]
    }
   ],
   "source": [
    "new_model.compile(\n",
    "loss=tf.keras.losses.MSE,\n",
    "optimizer=tf.optimizers.SGD(learning_rate=0.01))\n",
    "\n",
    "history = new_model.fit(x, y,\n",
    "                       epochs=100,\n",
    "                       batch_size=32,\n",
    "                       verbose=0)\n",
    "\n",
    "model.save('./my_model')"
   ]
  },
  {
   "cell_type": "code",
   "execution_count": 51,
   "id": "b690c9f9",
   "metadata": {},
   "outputs": [
    {
     "data": {
      "image/png": "[encoded data removed]",
      "text/plain": [
       "<Figure size 648x432 with 1 Axes>"
      ]
     },
     "metadata": {
      "needs_background": "light"
     },
     "output_type": "display_data"
    }
   ],
   "source": [
    "plt.plot(history.history['loss'])\n",
    "plt.xlabel('Epoch')\n",
    "plt.ylim([0, max(plt.ylim())])\n",
    "plt.ylabel('Loss [Mean Squared Error]')\n",
    "plt.title('Keras training progress');"
   ]
  },
  {
   "cell_type": "markdown",
   "id": "168d372d",
   "metadata": {},
   "source": [
    "Refer to [Basic training loops](https://www.tensorflow.org/guide/basic_training_loops) and the [Keras guide](https://www.tensorflow.org/guide/keras) for more details."
   ]
  },
  {
   "cell_type": "code",
   "execution_count": 3,
   "id": "2551ef64",
   "metadata": {},
   "outputs": [],
   "source": [
    "##"
   ]
  },
  {
   "cell_type": "code",
   "execution_count": null,
   "id": "cbd53ec0",
   "metadata": {},
   "outputs": [],
   "source": []
  }
 ],
 "metadata": {
  "kernelspec": {
   "display_name": "Python 3 (ipykernel)",
   "language": "python",
   "name": "python3"
  },
  "language_info": {
   "codemirror_mode": {
    "name": "ipython",
    "version": 3
   },
   "file_extension": ".py",
   "mimetype": "text/x-python",
   "name": "python",
   "nbconvert_exporter": "python",
   "pygments_lexer": "ipython3",
   "version": "3.8.8"
  }
 },
 "nbformat": 4,
 "nbformat_minor": 5
}
